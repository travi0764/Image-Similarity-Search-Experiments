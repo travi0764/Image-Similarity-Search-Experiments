{
 "cells": [
  {
   "cell_type": "code",
   "execution_count": 1,
   "metadata": {},
   "outputs": [],
   "source": [
    "import matplotlib.pyplot as plt\n",
    "import numpy as np\n",
    "import cv2\n",
    "import os\n",
    "import pandas as pd\n",
    "from PIL import Image\n",
    "from tensorflow.keras.optimizers import Adam\n",
    "from tensorflow.keras.losses import MeanSquaredError\n",
    "from tensorflow.keras import backend as K\n",
    "from pyimagesearch.new_convautoencoder import ConvAutoencoder\n",
    "from tensorflow.keras.optimizers.schedules import ExponentialDecay\n",
    "from tensorflow.keras.metrics import Accuracy\n",
    "from tensorflow.keras.callbacks import EarlyStopping, ModelCheckpoint, CSVLogger"
   ]
  },
  {
   "cell_type": "code",
   "execution_count": 2,
   "metadata": {},
   "outputs": [],
   "source": [
    "# Define the visualization function for reconstructed images\n",
    "def visualize_predictions(decoded, gt, samples=10):\n",
    "    # Initialize the list of output images\n",
    "    outputs = None\n",
    "    for i in range(0, samples):\n",
    "        # Grab the original image and reconstructed image\n",
    "        original = (gt[i] * 255).astype(\"uint8\")\n",
    "        recon = (decoded[i] * 255).astype(\"uint8\")\n",
    "        # Stack them side by side\n",
    "        output = np.hstack([original, recon])\n",
    "        if outputs is None:\n",
    "            outputs = output\n",
    "        else:\n",
    "            outputs = np.vstack([outputs, output])\n",
    "    return outputs"
   ]
  },
  {
   "cell_type": "code",
   "execution_count": 3,
   "metadata": {},
   "outputs": [],
   "source": [
    "# Hardcoded values\n",
    "# EPOCHS = 10\n",
    "# INIT_LR = 1e-3\n",
    "# BS = 16\n",
    "# IMG_HEIGHT, IMG_WIDTH, IMG_DEPTH = 128, 128, 3  # Change to 128x128 RGB images\n",
    "# MODEL_SAVE_PATH = \"autoencoder_model.h5\"\n",
    "# VIS_PATH = \"data/recon_vis2.png\"\n",
    "# PLOT_PATH = \"data/plot2.png\"\n",
    "# save_dir = \"data\"\n",
    "\n",
    "MODEL_PATH = \"autoencoder_model.keras\"\n",
    "VISUALIZATION_PATH = \"data/images/reconstruction_visualization.png\"\n",
    "PLOT_PATH = \"data/images/training_plot.png\"\n",
    "\n",
    "EPOCHS = 10\n",
    "INIT_LR = 1e-3\n",
    "BATCH_SIZE = 16\n",
    "IMG_HEIGHT, IMG_WIDTH, IMG_DEPTH = 128, 128, 3  # Change to 128x128 RGB images"
   ]
  },
  {
   "cell_type": "code",
   "execution_count": 4,
   "metadata": {},
   "outputs": [],
   "source": [
    "train_data_csv = pd.read_csv(\"data/train_data.csv\")\n",
    "validation_data_csv = pd.read_csv(\"data/validation_data.csv\")"
   ]
  },
  {
   "cell_type": "code",
   "execution_count": 5,
   "metadata": {},
   "outputs": [
    {
     "name": "stdout",
     "output_type": "stream",
     "text": [
      "(6500, 128, 128, 3)\n"
     ]
    }
   ],
   "source": [
    "num_images = len(validation_data_csv)\n",
    "image_shape = (128, 128, 3)\n",
    "\n",
    "validation_data = np.empty((num_images, *image_shape), dtype=np.uint8)\n",
    "\n",
    "for i in range(num_images):\n",
    "    image_path = validation_data_csv.iloc[i]['cutOutImages_path']\n",
    "    \n",
    "    # Open image and resize to (32, 32)\n",
    "    # img = Image.open(image_path).resize((32, 32))  # Resize to uniform shape\n",
    "    img = Image.open(image_path).resize((128, 128), Image.Resampling.BILINEAR)\n",
    "    # If the image is grayscale (L mode), convert it to RGB\n",
    "    if img.mode != 'RGB':\n",
    "        img = img.convert('RGB')\n",
    "    \n",
    "    # Convert the image to a numpy array\n",
    "    img_array = np.array(img)\n",
    "    \n",
    "    # Ensure it's in the desired shape (32, 32, 3)\n",
    "    if img_array.shape != image_shape:\n",
    "        raise ValueError(f\"Image at {image_path} has shape {img_array.shape}, expected {image_shape}\")\n",
    "\n",
    "    # Add to pre-allocated array\n",
    "    validation_data[i] = img_array\n",
    "\n",
    "print(validation_data.shape)  # (50000, 32, 32, 3)"
   ]
  },
  {
   "cell_type": "code",
   "execution_count": 6,
   "metadata": {},
   "outputs": [
    {
     "name": "stdout",
     "output_type": "stream",
     "text": [
      "Final shape: (25000, 128, 128, 3)\n"
     ]
    }
   ],
   "source": [
    "# Preallocate array\n",
    "num_images = len(train_data_csv)\n",
    "train_data = np.empty((num_images, *image_shape), dtype=np.uint8)\n",
    "\n",
    "valid_image_count = 0  # Counter for valid images\n",
    "\n",
    "for i in range(num_images):\n",
    "    image_path = train_data_csv.iloc[i]['cutOutImages_path']\n",
    "    \n",
    "    try:\n",
    "        # Open image, resize, and convert to RGB\n",
    "        img = Image.open(image_path).resize((128, 128), Image.Resampling.BILINEAR).convert('RGB')\n",
    "        img_array = np.array(img)\n",
    "        \n",
    "        # Validate shape\n",
    "        if img_array.shape != image_shape:\n",
    "            print(f\"Skipping {image_path}: shape {img_array.shape} is invalid.\")\n",
    "            continue\n",
    "        \n",
    "        # Add to pre-allocated array\n",
    "        train_data[valid_image_count] = img_array\n",
    "        valid_image_count += 1\n",
    "    \n",
    "    except Exception as e:\n",
    "        print(f\"Error processing {image_path}: {e}\")\n",
    "        continue\n",
    "\n",
    "# Resize train_data to fit only valid images\n",
    "train_data = train_data[:valid_image_count]\n",
    "\n",
    "print(f\"Final shape: {train_data.shape}\")"
   ]
  },
  {
   "cell_type": "code",
   "execution_count": 7,
   "metadata": {},
   "outputs": [],
   "source": [
    "X_train = np.reshape(train_data, (len(train_data), 128, 128, 3)) / 255.\n",
    "X_test = np.reshape(validation_data, (len(validation_data), 128, 128, 3)) / 255."
   ]
  },
  {
   "cell_type": "code",
   "execution_count": 8,
   "metadata": {},
   "outputs": [],
   "source": [
    "# lr_schedule = ExponentialDecay(\n",
    "#     initial_learning_rate=INIT_LR, \n",
    "#     decay_steps=100000, \n",
    "#     decay_rate=0.96, \n",
    "#     staircase=True\n",
    "# )\n",
    "\n",
    "# checkpoint = ModelCheckpoint(\n",
    "#         filepath=os.path.join(save_dir, \"best_model_1.keras\"),  # Use `.keras` extension\n",
    "#         monitor=\"val_loss\",\n",
    "#         save_best_only=True,\n",
    "#         mode=\"min\",\n",
    "#         verbose=1\n",
    "#     )\n",
    "\n",
    "# early_stopping = EarlyStopping(\n",
    "#         monitor=\"val_loss\",\n",
    "#         patience=3,  # Stop if no improvement after 10 epochs\n",
    "#         verbose=1,\n",
    "#         restore_best_weights=True\n",
    "#     )"
   ]
  },
  {
   "cell_type": "code",
   "execution_count": 9,
   "metadata": {},
   "outputs": [],
   "source": [
    "callbacks = [\n",
    "    EarlyStopping(monitor=\"val_loss\", patience=5, restore_best_weights=True, verbose=1),\n",
    "    ModelCheckpoint(MODEL_PATH, save_best_only=True, monitor=\"val_loss\", verbose=1),\n",
    "    CSVLogger(\"training_log.csv\", append=False)\n",
    "]\n",
    "\n",
    "lr_schedule = ExponentialDecay(\n",
    "    initial_learning_rate=INIT_LR, \n",
    "    decay_steps=100000, \n",
    "    decay_rate=0.96, \n",
    "    staircase=True\n",
    ")"
   ]
  },
  {
   "cell_type": "code",
   "execution_count": 10,
   "metadata": {},
   "outputs": [
    {
     "name": "stdout",
     "output_type": "stream",
     "text": [
      "1\n"
     ]
    }
   ],
   "source": [
    "print(1)"
   ]
  },
  {
   "cell_type": "code",
   "execution_count": 11,
   "metadata": {},
   "outputs": [
    {
     "name": "stdout",
     "output_type": "stream",
     "text": [
      "1\n"
     ]
    }
   ],
   "source": [
    "print(1)"
   ]
  },
  {
   "cell_type": "code",
   "execution_count": 12,
   "metadata": {},
   "outputs": [
    {
     "name": "stdout",
     "output_type": "stream",
     "text": [
      "[INFO] building autoencoder...\n",
      "====================================================================================================\n",
      "Printing filters : (32, 32, 32, 64, 64, 64, 128)\n",
      "Printing latent dim  : 512\n",
      "====================================================================================================\n"
     ]
    }
   ],
   "source": [
    "print(\"[INFO] building autoencoder...\")\n",
    "# autoencoder = ConvAutoencoder.build(IMG_WIDTH, IMG_HEIGHT, IMG_DEPTH, filters=(16, 32, 64, 64, 128, 128, 256, 512), latentDim=512)\n",
    "autoencoder = ConvAutoencoder.build(IMG_WIDTH, IMG_HEIGHT, IMG_DEPTH, filters=(32,32,32,64,64,64,128), latent_dim=512)\n",
    "opt = Adam(learning_rate=lr_schedule)\n",
    "autoencoder.compile(\n",
    "    loss=MeanSquaredError(),   # Use MeanSquaredError explicitly \n",
    "    metrics=[Accuracy()],      # Explicitly use Accuracy metric if needed\n",
    "    optimizer=opt\n",
    ")"
   ]
  },
  {
   "cell_type": "code",
   "execution_count": 13,
   "metadata": {},
   "outputs": [
    {
     "name": "stdout",
     "output_type": "stream",
     "text": [
      "[INFO] training autoencoder...\n",
      "Epoch 1/10\n",
      "\u001b[1m1563/1563\u001b[0m \u001b[32m━━━━━━━━━━━━━━━━━━━━\u001b[0m\u001b[37m\u001b[0m \u001b[1m0s\u001b[0m 152ms/step - accuracy: 1.4127e-05 - loss: 0.0464\n",
      "Epoch 1: val_loss improved from inf to 0.02686, saving model to autoencoder_model.keras\n",
      "\u001b[1m1563/1563\u001b[0m \u001b[32m━━━━━━━━━━━━━━━━━━━━\u001b[0m\u001b[37m\u001b[0m \u001b[1m271s\u001b[0m 171ms/step - accuracy: 1.4129e-05 - loss: 0.0464 - val_accuracy: 3.9341e-05 - val_loss: 0.0269\n",
      "Epoch 2/10\n",
      "\u001b[1m1563/1563\u001b[0m \u001b[32m━━━━━━━━━━━━━━━━━━━━\u001b[0m\u001b[37m\u001b[0m \u001b[1m0s\u001b[0m 154ms/step - accuracy: 1.8506e-05 - loss: 0.0221\n",
      "Epoch 2: val_loss improved from 0.02686 to 0.01871, saving model to autoencoder_model.keras\n",
      "\u001b[1m1563/1563\u001b[0m \u001b[32m━━━━━━━━━━━━━━━━━━━━\u001b[0m\u001b[37m\u001b[0m \u001b[1m258s\u001b[0m 165ms/step - accuracy: 1.8513e-05 - loss: 0.0221 - val_accuracy: 2.5485e-05 - val_loss: 0.0187\n",
      "Epoch 3/10\n",
      "\u001b[1m1563/1563\u001b[0m \u001b[32m━━━━━━━━━━━━━━━━━━━━\u001b[0m\u001b[37m\u001b[0m \u001b[1m0s\u001b[0m 154ms/step - accuracy: 4.0028e-05 - loss: 0.0177\n",
      "Epoch 3: val_loss improved from 0.01871 to 0.01555, saving model to autoencoder_model.keras\n",
      "\u001b[1m1563/1563\u001b[0m \u001b[32m━━━━━━━━━━━━━━━━━━━━\u001b[0m\u001b[37m\u001b[0m \u001b[1m259s\u001b[0m 166ms/step - accuracy: 4.0052e-05 - loss: 0.0177 - val_accuracy: 1.6369e-04 - val_loss: 0.0155\n",
      "Epoch 4/10\n",
      "\u001b[1m1563/1563\u001b[0m \u001b[32m━━━━━━━━━━━━━━━━━━━━\u001b[0m\u001b[37m\u001b[0m \u001b[1m0s\u001b[0m 154ms/step - accuracy: 1.6412e-04 - loss: 0.0164\n",
      "Epoch 4: val_loss improved from 0.01555 to 0.01481, saving model to autoencoder_model.keras\n",
      "\u001b[1m1563/1563\u001b[0m \u001b[32m━━━━━━━━━━━━━━━━━━━━\u001b[0m\u001b[37m\u001b[0m \u001b[1m260s\u001b[0m 166ms/step - accuracy: 1.6421e-04 - loss: 0.0164 - val_accuracy: 0.0024 - val_loss: 0.0148\n",
      "Epoch 5/10\n",
      "\u001b[1m1563/1563\u001b[0m \u001b[32m━━━━━━━━━━━━━━━━━━━━\u001b[0m\u001b[37m\u001b[0m \u001b[1m0s\u001b[0m 155ms/step - accuracy: 5.0034e-04 - loss: 0.0154\n",
      "Epoch 5: val_loss did not improve from 0.01481\n",
      "\u001b[1m1563/1563\u001b[0m \u001b[32m━━━━━━━━━━━━━━━━━━━━\u001b[0m\u001b[37m\u001b[0m \u001b[1m261s\u001b[0m 167ms/step - accuracy: 5.0033e-04 - loss: 0.0154 - val_accuracy: 2.2237e-04 - val_loss: 0.0150\n",
      "Epoch 6/10\n",
      "\u001b[1m1563/1563\u001b[0m \u001b[32m━━━━━━━━━━━━━━━━━━━━\u001b[0m\u001b[37m\u001b[0m \u001b[1m0s\u001b[0m 156ms/step - accuracy: 3.9235e-04 - loss: 0.0148\n",
      "Epoch 6: val_loss improved from 0.01481 to 0.01350, saving model to autoencoder_model.keras\n",
      "\u001b[1m1563/1563\u001b[0m \u001b[32m━━━━━━━━━━━━━━━━━━━━\u001b[0m\u001b[37m\u001b[0m \u001b[1m263s\u001b[0m 168ms/step - accuracy: 3.9235e-04 - loss: 0.0148 - val_accuracy: 9.9820e-04 - val_loss: 0.0135\n",
      "Epoch 7/10\n",
      "\u001b[1m1563/1563\u001b[0m \u001b[32m━━━━━━━━━━━━━━━━━━━━\u001b[0m\u001b[37m\u001b[0m \u001b[1m0s\u001b[0m 160ms/step - accuracy: 5.2368e-04 - loss: 0.0142\n",
      "Epoch 7: val_loss improved from 0.01350 to 0.01296, saving model to autoencoder_model.keras\n",
      "\u001b[1m1563/1563\u001b[0m \u001b[32m━━━━━━━━━━━━━━━━━━━━\u001b[0m\u001b[37m\u001b[0m \u001b[1m269s\u001b[0m 172ms/step - accuracy: 5.2368e-04 - loss: 0.0142 - val_accuracy: 4.0817e-04 - val_loss: 0.0130\n",
      "Epoch 8/10\n",
      "\u001b[1m1563/1563\u001b[0m \u001b[32m━━━━━━━━━━━━━━━━━━━━\u001b[0m\u001b[37m\u001b[0m \u001b[1m0s\u001b[0m 157ms/step - accuracy: 5.9509e-04 - loss: 0.0137\n",
      "Epoch 8: val_loss did not improve from 0.01296\n",
      "\u001b[1m1563/1563\u001b[0m \u001b[32m━━━━━━━━━━━━━━━━━━━━\u001b[0m\u001b[37m\u001b[0m \u001b[1m264s\u001b[0m 169ms/step - accuracy: 5.9512e-04 - loss: 0.0137 - val_accuracy: 7.0986e-04 - val_loss: 0.0132\n",
      "Epoch 9/10\n",
      "\u001b[1m1563/1563\u001b[0m \u001b[32m━━━━━━━━━━━━━━━━━━━━\u001b[0m\u001b[37m\u001b[0m \u001b[1m0s\u001b[0m 156ms/step - accuracy: 6.0993e-04 - loss: 0.0134\n",
      "Epoch 9: val_loss improved from 0.01296 to 0.01213, saving model to autoencoder_model.keras\n",
      "\u001b[1m1563/1563\u001b[0m \u001b[32m━━━━━━━━━━━━━━━━━━━━\u001b[0m\u001b[37m\u001b[0m \u001b[1m262s\u001b[0m 168ms/step - accuracy: 6.0993e-04 - loss: 0.0134 - val_accuracy: 4.9889e-04 - val_loss: 0.0121\n",
      "Epoch 10/10\n",
      "\u001b[1m1563/1563\u001b[0m \u001b[32m━━━━━━━━━━━━━━━━━━━━\u001b[0m\u001b[37m\u001b[0m \u001b[1m0s\u001b[0m 157ms/step - accuracy: 5.9377e-04 - loss: 0.0130\n",
      "Epoch 10: val_loss did not improve from 0.01213\n",
      "\u001b[1m1563/1563\u001b[0m \u001b[32m━━━━━━━━━━━━━━━━━━━━\u001b[0m\u001b[37m\u001b[0m \u001b[1m264s\u001b[0m 169ms/step - accuracy: 5.9383e-04 - loss: 0.0130 - val_accuracy: 8.8886e-04 - val_loss: 0.0126\n",
      "Restoring model weights from the end of the best epoch: 9.\n"
     ]
    }
   ],
   "source": [
    "# Train the autoencoder\n",
    "print(\"[INFO] training autoencoder...\")\n",
    "H = autoencoder.fit(\n",
    "    X_train, X_train,\n",
    "    validation_data=(X_test, X_test),\n",
    "    epochs=EPOCHS,\n",
    "    batch_size=BATCH_SIZE,\n",
    "    callbacks=callbacks\n",
    ")"
   ]
  },
  {
   "cell_type": "code",
   "execution_count": 14,
   "metadata": {},
   "outputs": [
    {
     "name": "stdout",
     "output_type": "stream",
     "text": [
      "1\n"
     ]
    }
   ],
   "source": [
    "print(1)"
   ]
  },
  {
   "cell_type": "code",
   "execution_count": 15,
   "metadata": {},
   "outputs": [
    {
     "name": "stdout",
     "output_type": "stream",
     "text": [
      "[INFO] making predictions...\n",
      "\u001b[1m204/204\u001b[0m \u001b[32m━━━━━━━━━━━━━━━━━━━━\u001b[0m\u001b[37m\u001b[0m \u001b[1m16s\u001b[0m 75ms/step\n",
      "[INFO] Plotting training history...\n"
     ]
    },
    {
     "data": {
      "image/png": "[encoded data removed]",
      "text/plain": [
       "<Figure size 640x480 with 1 Axes>"
      ]
     },
     "metadata": {},
     "output_type": "display_data"
    },
    {
     "name": "stdout",
     "output_type": "stream",
     "text": [
      "[INFO] Model saved to autoencoder_model.keras\n",
      "[INFO] Reconstruction visualization saved to data/images/reconstruction_visualization.png\n",
      "[INFO] Training plot saved to data/images/training_plot.png\n"
     ]
    }
   ],
   "source": [
    "# Use the trained autoencoder to make predictions on the test set\n",
    "print(\"[INFO] making predictions...\")\n",
    "decoded = autoencoder.predict(X_test)\n",
    "\n",
    "# Visualize the predictions and save the results\n",
    "vis = visualize_predictions(decoded, X_test)\n",
    "cv2.imwrite(VISUALIZATION_PATH, vis)\n",
    "\n",
    "# Plot and save the training history\n",
    "print(\"[INFO] Plotting training history...\")\n",
    "plt.style.use(\"ggplot\")\n",
    "plt.figure()\n",
    "plt.plot(H.history[\"loss\"], label=\"Train Loss\")\n",
    "plt.plot(H.history[\"val_loss\"], label=\"Validation Loss\")\n",
    "plt.title(\"Training Loss and Validation Loss\")\n",
    "plt.xlabel(\"Epochs\")\n",
    "plt.ylabel(\"Loss\")\n",
    "plt.legend(loc=\"upper right\")\n",
    "plt.savefig(PLOT_PATH)\n",
    "plt.show()\n",
    "\n",
    "print(f\"[INFO] Model saved to {MODEL_PATH}\")\n",
    "print(f\"[INFO] Reconstruction visualization saved to {VISUALIZATION_PATH}\")\n",
    "print(f\"[INFO] Training plot saved to {PLOT_PATH}\")\n"
   ]
  },
  {
   "cell_type": "code",
   "execution_count": 10,
   "metadata": {},
   "outputs": [
    {
     "name": "stdout",
     "output_type": "stream",
     "text": [
      "2\n"
     ]
    }
   ],
   "source": [
    "print(2)"
   ]
  },
  {
   "cell_type": "code",
   "execution_count": 23,
   "metadata": {},
   "outputs": [
    {
     "name": "stdout",
     "output_type": "stream",
     "text": [
      "[INFO] making predictions...\n",
      "\u001b[1m204/204\u001b[0m \u001b[32m━━━━━━━━━━━━━━━━━━━━\u001b[0m\u001b[37m\u001b[0m \u001b[1m29s\u001b[0m 143ms/step\n"
     ]
    },
    {
     "data": {
      "text/plain": [
       "True"
      ]
     },
     "execution_count": 23,
     "metadata": {},
     "output_type": "execute_result"
    }
   ],
   "source": [
    "# # Use the trained autoencoder to make predictions on the test set\n",
    "# print(\"[INFO] making predictions...\")\n",
    "# decoded = autoencoder.predict(X_test)\n",
    "\n",
    "# # Visualize the predictions and save the results\n",
    "# vis = visualize_predictions(decoded, X_test)\n",
    "# cv2.imwrite(VIS_PATH, vis)"
   ]
  },
  {
   "cell_type": "code",
   "execution_count": null,
   "metadata": {},
   "outputs": [],
   "source": []
  }
 ],
 "metadata": {
  "kernelspec": {
   "display_name": "env",
   "language": "python",
   "name": "python3"
  },
  "language_info": {
   "codemirror_mode": {
    "name": "ipython",
    "version": 3
   },
   "file_extension": ".py",
   "mimetype": "text/x-python",
   "name": "python",
   "nbconvert_exporter": "python",
   "pygments_lexer": "ipython3",
   "version": "3.11.0"
  }
 },
 "nbformat": 4,
 "nbformat_minor": 2
}
